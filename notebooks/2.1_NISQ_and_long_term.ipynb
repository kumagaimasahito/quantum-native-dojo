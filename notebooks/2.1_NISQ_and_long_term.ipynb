{
  "nbformat": 4,
  "nbformat_minor": 0,
  "metadata": {
    "kernelspec": {
      "display_name": "Python 3",
      "language": "python",
      "name": "python3"
    },
    "language_info": {
      "codemirror_mode": {
        "name": "ipython",
        "version": 3
      },
      "file_extension": ".py",
      "mimetype": "text/x-python",
      "name": "python",
      "nbconvert_exporter": "python",
      "pygments_lexer": "ipython3",
      "version": "3.7.0"
    },
    "varInspector": {
      "cols": {
        "lenName": 16,
        "lenType": 16,
        "lenVar": 40
      },
      "kernels_config": {
        "python": {
          "delete_cmd_postfix": "",
          "delete_cmd_prefix": "del ",
          "library": "var_list.py",
          "varRefreshCmd": "print(var_dic_list())"
        },
        "r": {
          "delete_cmd_postfix": ") ",
          "delete_cmd_prefix": "rm(",
          "library": "var_list.r",
          "varRefreshCmd": "cat(var_dic_list()) "
        }
      },
      "types_to_exclude": [
        "module",
        "function",
        "builtin_function_or_method",
        "instance",
        "_Feature"
      ],
      "window_display": false
    },
    "colab": {
      "name": "2.1_NISQ_and_long_term.ipynb",
      "provenance": [],
      "include_colab_link": true
    }
  },
  "cells": [
    {
      "cell_type": "markdown",
      "metadata": {
        "id": "view-in-github",
        "colab_type": "text"
      },
      "source": [
        "<a href=\"https://colab.research.google.com/github/kumagaimasahito/quantum-native-dojo/blob/master/notebooks/2.1_NISQ_and_long_term.ipynb\" target=\"_parent\"><img src=\"https://colab.research.google.com/assets/colab-badge.svg\" alt=\"Open In Colab\"/></a>"
      ]
    },
    {
      "cell_type": "markdown",
      "metadata": {
        "id": "baG1e51f3oGj",
        "colab_type": "text"
      },
      "source": [
        "## 2-1. NISQアルゴリズムとlong-termアルゴリズム\n",
        "現在発明・発見されている量子アルゴリズムは、実現可能性の観点から2つのグループに大別できる。\n",
        "一つは**NISQアルゴリズム**、もう一つは**long-termアルゴリズム**である。（これらの単語は一般的ではないので、他の文献を見る際には注意すること。また、**この２つの区別は絶対的なものではなく、解くべき問題の大きさや技術の進歩などによって移り変るものであることに留意されたい。**）それらの代表例を表に示す。   \n",
        "\n",
        "![2-1](https://github.com/kumagaimasahito/quantum-native-dojo/blob/master/notebooks/figs/2/quantum_algo_table.png?raw=1)\n",
        "\n",
        "(VQE = Variational Quantum Eigensolver (5-1節), QAOA = Quantum Approximate Optimization Algorithm (5-3節), QCL = Quantum Circuit Learning (5-2節), QFT = Quantum Fourier Transform (2-3節), QPE = Quantum Phase Estimation (2-4節), HHL = Harrow-Hassidim-Lloyd algorithm (7-3節))"
      ]
    },
    {
      "cell_type": "markdown",
      "metadata": {
        "id": "zCVLdf1t3oGl",
        "colab_type": "text"
      },
      "source": [
        "### NISQ アルゴリズム\n",
        "\n",
        "#### NISQとは\n",
        "まずNISQアルゴリズムについて説明するが、そもそも、最近よく聞く NISQ（[NISA](https://www.fsa.go.jp/policy/nisa2/about/index.html)ではない）デバイスとは何なのであろうか。   \n",
        "NISQ（一般に「ニスク」と発音される）デバイスとはNoisy Intermediate-Scale Quantum deviceの略で、数年〜十年以内に実現可能と考えられている、小～中規模（量子ビット数〜数百個程度）の量子コンピュータの総称である。NISQデバイスは、大量の量子ビットを必要とする「量子誤り訂正」（[第9章]）を行う事ができず、計算途中で起こる誤り（ノイズ）の影響をもろに受けてしまう（このような意味でNoisyという形容詞が付されている）。計算途中での誤りを随時訂正できる真の量子コンピュータにはまだ遠く、通常のコンピュータに例えるなら、集積回路の発明以前のトランジスタ式や真空管式のコンピュータのような段階と言っても良いかもしれない。   "
      ]
    },
    {
      "cell_type": "markdown",
      "metadata": {
        "id": "Afj2Fhe53oGm",
        "colab_type": "text"
      },
      "source": [
        "#### NISQアルゴリズムの概要\n",
        "NISQデバイスでは、前述のようにノイズの影響が不可避である。このノイズは、計算が長ければ長くなるほど（アルゴリズムが複雑になればなるほど）蓄積していき、最終的には出力結果をデタラメにしてしまう。例えば、有名な量子アルゴリズムであるShorのアルゴリズムやGroverのアルゴリズムは回路が複雑（操作の回数が多い）であり、エラー耐性の低いNISQではパワー不足で実行することが難しい。\n",
        "\n",
        "一方で、NISQを用いたとしても何か実用的に役立つ例を見つけられないか、ということで生み出されたのがNISQアルゴリズムである。上のような言い方をするとネガティブな印象を持たれるかもしれないが、化学反応のシミュレーションなどのタスクにおいて、NISQが古典コンピュータを上回る可能性が示唆されている（Qmedia記事[量子コンピュータの現在とこれから](https://www.qmedia.jp/nisq-era-john-preskill)）。NISQは、量子コンピュータの古典コンピュータに対する優位性が示される「量子スプレマシー」の担い手として注目を集めているのである。\n",
        "\n",
        "一般に量子計算は、量子ビット数が大きく、量子演算の回数が多くなるほど、エラーの影響を受けやすくなる。そのため、NISQアルゴリズムは少数の量子ビットで、かつ浅い量子回路（少ない量子ゲート数）で行える必要がある。このような背景から、NISQアルゴリズムの研究においては、「**量子・古典ハイブリッドアルゴリズム**」というアプローチが主流となっている。これは、行いたい計算のすべてを量子コンピュータに任せるのではなく、量子コンピュータの得意な部分のみを量子計算機に任せ、残りは古典コンピュータで処理する、というものである。Quantum Native Dojoで扱うNISQアルゴリズムは、基本的にこの古典・量子ハイブリッドのアプローチに基づいている。"
      ]
    },
    {
      "cell_type": "markdown",
      "metadata": {
        "id": "a1qEPZmP3oGn",
        "colab_type": "text"
      },
      "source": [
        "### Long-Termアルゴリズム\n",
        "一方、long-termアルゴリズムは、多数の量子ビットが利用可能、かつ誤り訂正が可能という仮定のもとで初めて可能になるアルゴリズムである。もちろん、**NISQで実行できるかどうかは解きたい問題のサイズや精度に依存する**ので、どのアルゴリズムがNISQで、どのアルゴリズムがlong-termであるということに深い意味はない。基本的に全ての量子アルゴリズムはlong-termアルゴリズムであり、その一部がNISQデバイスでも実行なアルゴリズムであると考えるのが良いかもしれない。\n",
        "\n",
        "この章で学んでいくアルゴリズムは、long-termアルゴリズムのうち入門的なものである（上表の黄色の部分を参照）。後半の章では、近年盛んに研究が進んでいるNISQアルゴリズムの他、Groverのアルゴリズムといったより高度なlong-termアルゴリズムについて取り扱う。"
      ]
    },
    {
      "cell_type": "markdown",
      "metadata": {
        "id": "GWLzfbCB3oGn",
        "colab_type": "text"
      },
      "source": [
        "### より深く知るには：\n",
        "- Qmedia 量子コンピュータの現在とこれから https://www.qmedia.jp/nisq-era-john-preskill/\n",
        "- Quantum Algorithm Zoo http://quantumalgorithmzoo.org/\n",
        "- Quantum Algorithm Zoo 日本語訳 https://www.qmedia.jp/algebraic-number-theoretic-algorithms/"
      ]
    }
  ]
}