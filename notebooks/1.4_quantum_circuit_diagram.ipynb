{
  "nbformat": 4,
  "nbformat_minor": 0,
  "metadata": {
    "colab": {
      "name": "1_basics_of_quantum_information.ipynb",
      "provenance": [],
      "include_colab_link": true
    },
    "kernelspec": {
      "display_name": "Python 3",
      "language": "python",
      "name": "python3"
    },
    "language_info": {
      "codemirror_mode": {
        "name": "ipython",
        "version": 3
      },
      "file_extension": ".py",
      "mimetype": "text/x-python",
      "name": "python",
      "nbconvert_exporter": "python",
      "pygments_lexer": "ipython3",
      "version": "3.7.0"
    },
    "varInspector": {
      "cols": {
        "lenName": 16,
        "lenType": 16,
        "lenVar": 40
      },
      "kernels_config": {
        "python": {
          "delete_cmd_postfix": "",
          "delete_cmd_prefix": "del ",
          "library": "var_list.py",
          "varRefreshCmd": "print(var_dic_list())"
        },
        "r": {
          "delete_cmd_postfix": ") ",
          "delete_cmd_prefix": "rm(",
          "library": "var_list.r",
          "varRefreshCmd": "cat(var_dic_list()) "
        }
      },
      "types_to_exclude": [
        "module",
        "function",
        "builtin_function_or_method",
        "instance",
        "_Feature"
      ],
      "window_display": false
    }
  },
  "cells": [
    {
      "cell_type": "markdown",
      "metadata": {
        "id": "view-in-github",
        "colab_type": "text"
      },
      "source": [
        "<a href=\"https://colab.research.google.com/github/kumagaimasahito/quantum-native-dojo/blob/master/notebooks/1.4_quantum_circuit_diagram.ipynb\" target=\"_parent\"><img src=\"https://colab.research.google.com/assets/colab-badge.svg\" alt=\"Open In Colab\"/></a>"
      ]
    },
    {
      "cell_type": "markdown",
      "metadata": {
        "colab_type": "text",
        "id": "A46fkXZnkD6Z"
      },
      "source": [
        "## 1-4. 回路図の基礎"
      ]
    },
    {
      "cell_type": "markdown",
      "metadata": {
        "id": "8fmLc-QwhEsi",
        "colab_type": "text"
      },
      "source": [
        "この章では、量子ビットと演算をどのように表現するかを学んできた。最後に量子操作を記述する量子回路図についてまとめておこう。論理回路や電気回路の図にも一定のルールや記号があるように、量子回路についてもある程度標準化されている記法が存在する。\n",
        "\n",
        "量子回路図は一般に以下のような形をしている。\n",
        "\n",
        "![図1-4-回路図](https://github.com/kumagaimasahito/quantum-native-dojo/blob/master/notebooks/figs/1/1-4_example.png?raw=1)\n",
        "\n",
        "主な構成要素は\n",
        "\n",
        "- 量子ビット: 回路図の１つ１つの横線が、それぞれ１つの量子ビットに対応している。左端の$|0\\rangle$は、それぞれの量子ビットが$|0\\rangle$に初期化されていることを表す。\n",
        "- 量子ゲート：回路図にある箱や縦線が、量子ゲートを表す。一般に、$n$量子ビットゲートは作用する$n$個の量子ビット(横線)にまたがる箱で表される。それ以外に、特殊な書き方で表すゲートがいくつかあり、例えば制御NOTゲート、SWAPゲート、制御$U$演算 $\\Lambda(U) = |0\\rangle \\langle 0| \\otimes I + |1\\rangle \\langle 1| \\otimes U$は以下のように表される。\n",
        "\n",
        "    ![図1-4-特殊回](https://github.com/kumagaimasahito/quantum-native-dojo/blob/master/notebooks/figs/1/1-4_specialcircuit.png?raw=1)\n",
        "\n",
        "- 測定：右端にあるメーターのような記号で、量子ビットに対する測定を行うことを表す。\n",
        "\n",
        "回路図の読み方において最も重要なのは、回路図は**左から右に読む**ということである。つまり、楽譜のように左から順に量子ゲートや測定操作を行うことで計算が進んでいく。よって冒頭の回路は、\n",
        "\n",
        "$$\n",
        " \\Lambda(X)_{1,2} H(1) |00\\rangle\n",
        "$$\n",
        "\n",
        "という状態を作った後、１番目の量子ビットを測定する操作を表す。\n",
        "\n",
        "(詳細はNielsen-Chuang冒頭`Nomenclature and notation`の`Frequently used quantum gates and circuit symbols`参照)"
      ]
    }
  ]
}